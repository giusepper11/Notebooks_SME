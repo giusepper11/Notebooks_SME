{
 "cells": [
  {
   "cell_type": "code",
   "execution_count": 15,
   "metadata": {},
   "outputs": [],
   "source": [
    "import pandas as pd\n",
    "import os\n",
    "import glob"
   ]
  },
  {
   "cell_type": "code",
   "execution_count": 44,
   "metadata": {},
   "outputs": [],
   "source": [
    "escolas_csv_path = '/home/gro/Downloads/escola_hist/'"
   ]
  },
  {
   "cell_type": "code",
   "execution_count": 45,
   "metadata": {},
   "outputs": [],
   "source": [
    "csvs = glob.glob(escolas_csv_path+'*.csv')"
   ]
  },
  {
   "cell_type": "code",
   "execution_count": 46,
   "metadata": {},
   "outputs": [
    {
     "data": {
      "text/plain": [
       "['/home/gro/Downloads/escola_hist/escolasr34_062018.csv',\n",
       " '/home/gro/Downloads/escola_hist/escolasr34_042017.csv',\n",
       " '/home/gro/Downloads/escola_hist/escolasr34_092016.csv',\n",
       " '/home/gro/Downloads/escola_hist/escolasr34_122017.csv',\n",
       " '/home/gro/Downloads/escola_hist/escolasr34_022017.csv']"
      ]
     },
     "execution_count": 46,
     "metadata": {},
     "output_type": "execute_result"
    }
   ],
   "source": [
    "csvs"
   ]
  },
  {
   "cell_type": "code",
   "execution_count": 47,
   "metadata": {},
   "outputs": [
    {
     "data": {
      "text/plain": [
       "5"
      ]
     },
     "execution_count": 47,
     "metadata": {},
     "output_type": "execute_result"
    }
   ],
   "source": [
    "data = [pd.read_csv(x,sep=';', encoding='latin1') for x in csvs ]\n",
    "len(data)"
   ]
  },
  {
   "cell_type": "code",
   "execution_count": 48,
   "metadata": {},
   "outputs": [],
   "source": [
    "df = pd.concat(data,sort=False,ignore_index=True)"
   ]
  },
  {
   "cell_type": "code",
   "execution_count": 49,
   "metadata": {},
   "outputs": [],
   "source": [
    "df.drop(['T2D3D', 'T2D3D17', 'T2D3D16', 'T2D3D15',\n",
    "       'T2D3D14', 'T2D3D13', 'T2D3D12', 'T2D3D11', 'T2D3D10', 'T2D3D09',\n",
    "       'T2D3D08', 'T2D3D07', 'DTURNOS', 'DTURNOS17', 'DTURNOS16', 'DTURNOS15',\n",
    "       'DTURNOS14', 'DTURNOS13', 'DTURNOS12', 'DTURNOS11', 'DTURNOS10',\n",
    "       'DTURNOS09', 'DTURNOS08', 'DTURNOS07'],axis=1, inplace=True)"
   ]
  },
  {
   "cell_type": "code",
   "execution_count": null,
   "metadata": {},
   "outputs": [],
   "source": []
  },
  {
   "cell_type": "code",
   "execution_count": 51,
   "metadata": {},
   "outputs": [
    {
     "data": {
      "text/plain": [
       "DRE             142\n",
       "CODESC         1205\n",
       "NOMESC         1205\n",
       "TIPOESC        1205\n",
       "CEU               0\n",
       "DIRETORIA       142\n",
       "SUBPREF           0\n",
       "BAIRRO         1205\n",
       "ENDERECO       1205\n",
       "NUMERO         1205\n",
       "CEP            1205\n",
       "FAX               0\n",
       "TEL1            403\n",
       "TEL2             18\n",
       "SITUACAO       1205\n",
       "CODDIST           0\n",
       "CODINEP           0\n",
       "DISTRITO          0\n",
       "SETOR             0\n",
       "CODCIE            0\n",
       "EH                0\n",
       "DT_CRIACAO      798\n",
       "ATO_CRIACAO     798\n",
       "DOM_CRIACAO     793\n",
       "DT_INI_FUNC       0\n",
       "DT_AUTORIZA       0\n",
       "NOME_ANT        294\n",
       "LATITUDE          6\n",
       "LONGITUDE         6\n",
       "REDE              0\n",
       "DATABASE          0\n",
       "dtype: int64"
      ]
     },
     "execution_count": 51,
     "metadata": {},
     "output_type": "execute_result"
    }
   ],
   "source": []
  },
  {
   "cell_type": "code",
   "execution_count": 38,
   "metadata": {},
   "outputs": [],
   "source": [
    "df.to_csv('escolas16_18.csv', sep='|', index=False)"
   ]
  },
  {
   "cell_type": "code",
   "execution_count": null,
   "metadata": {},
   "outputs": [],
   "source": []
  }
 ],
 "metadata": {
  "kernelspec": {
   "display_name": "Python 3",
   "language": "python",
   "name": "python3"
  },
  "language_info": {
   "codemirror_mode": {
    "name": "ipython",
    "version": 3
   },
   "file_extension": ".py",
   "mimetype": "text/x-python",
   "name": "python",
   "nbconvert_exporter": "python",
   "pygments_lexer": "ipython3",
   "version": "3.6.7"
  }
 },
 "nbformat": 4,
 "nbformat_minor": 2
}
